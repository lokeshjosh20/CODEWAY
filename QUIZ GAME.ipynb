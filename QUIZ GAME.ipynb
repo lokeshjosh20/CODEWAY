{
 "cells": [
  {
   "cell_type": "code",
   "execution_count": 1,
   "id": "4f47a263",
   "metadata": {},
   "outputs": [],
   "source": [
    "import random\n"
   ]
  },
  {
   "cell_type": "code",
   "execution_count": null,
   "id": "46498dcd",
   "metadata": {},
   "outputs": [
    {
     "name": "stdout",
     "output_type": "stream",
     "text": [
      "Welcome to the Quiz Game!\n",
      "Rules: You will be asked multiple-choice or fill-in-the-blank questions.\n",
      "Let's begin!\n",
      "\n",
      "What is the capital of France? Paris\n",
      "Correct!\n",
      "What is the largest mammal? Blue whale\n",
      "Correct!\n",
      "What is the chemical symbol for water? H2o\n",
      "Correct!\n",
      "\n",
      "Your final score is: 3\n"
     ]
    }
   ],
   "source": [
    "\n",
    "\n",
    "# Define quiz questions and answers\n",
    "quiz_questions = {\n",
    "    \"What is the capital of France?\": \"Paris\",\n",
    "    \"What is the largest mammal?\": \"Blue whale\",\n",
    "    \"What is the chemical symbol for water?\": \"H2O\"\n",
    "}\n",
    "\n",
    "# Define function to present quiz questions\n",
    "def present_quiz(questions):\n",
    "    score = 0\n",
    "    for question, answer in questions.items():\n",
    "        user_answer = input(question + \" \")\n",
    "        if user_answer.lower() == answer.lower():\n",
    "            print(\"Correct!\")\n",
    "            score += 1\n",
    "        else:\n",
    "            print(\"Incorrect. The correct answer is:\", answer)\n",
    "    return score\n",
    "\n",
    "# Define function to play the quiz game\n",
    "def play_quiz():\n",
    "    print(\"Welcome to the Quiz Game!\")\n",
    "    print(\"Rules: You will be asked multiple-choice or fill-in-the-blank questions.\")\n",
    "    print(\"Let's begin!\\n\")\n",
    "    \n",
    "    final_score = present_quiz(quiz_questions)\n",
    "    \n",
    "    print(\"\\nYour final score is:\", final_score)\n",
    "\n",
    "# Define function to ask if the user wants to play again\n",
    "def play_again():\n",
    "    while True:\n",
    "        choice = input(\"Do you want to play again? (yes/no) \").lower()\n",
    "        if choice == \"yes\":\n",
    "            return True\n",
    "        elif choice == \"no\":\n",
    "            return False\n",
    "        else:\n",
    "            print(\"Invalid input. Please enter 'yes' or 'no'.\")\n",
    "\n",
    "# Main function to run the quiz game\n",
    "def main():\n",
    "    play_quiz()\n",
    "    while play_again():\n",
    "        play_quiz()\n",
    "\n",
    "if __name__ == \"__main__\":\n",
    "    main()\n"
   ]
  },
  {
   "cell_type": "code",
   "execution_count": null,
   "id": "2592e605",
   "metadata": {},
   "outputs": [],
   "source": []
  }
 ],
 "metadata": {
  "kernelspec": {
   "display_name": "Python 3 (ipykernel)",
   "language": "python",
   "name": "python3"
  },
  "language_info": {
   "codemirror_mode": {
    "name": "ipython",
    "version": 3
   },
   "file_extension": ".py",
   "mimetype": "text/x-python",
   "name": "python",
   "nbconvert_exporter": "python",
   "pygments_lexer": "ipython3",
   "version": "3.11.5"
  }
 },
 "nbformat": 4,
 "nbformat_minor": 5
}
