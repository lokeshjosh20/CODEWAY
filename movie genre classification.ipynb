{
 "cells": [
  {
   "cell_type": "code",
   "execution_count": 1,
   "id": "da0e35fc",
   "metadata": {},
   "outputs": [
    {
     "name": "stderr",
     "output_type": "stream",
     "text": [
      "[nltk_data] Downloading package stopwords to\n",
      "[nltk_data]     C:\\Users\\user\\AppData\\Roaming\\nltk_data...\n",
      "[nltk_data]   Package stopwords is already up-to-date!\n"
     ]
    }
   ],
   "source": [
    "import pandas as pd\n",
    "import numpy as np\n",
    "import seaborn as sns\n",
    "import matplotlib.pyplot as plt\n",
    "import re \n",
    "import string \n",
    "import nltk \n",
    "from sklearn.preprocessing import LabelEncoder\n",
    "from nltk.corpus import stopwords \n",
    "from nltk.tokenize import word_tokenize\n",
    "from nltk.stem import PorterStemmer, WordNetLemmatizer\n",
    "from sklearn.feature_extraction.text import CountVectorizer as CV\n",
    "from sklearn.feature_extraction.text import TfidfVectorizer\n",
    "from sklearn.svm import SVC\n",
    "from sklearn.linear_model import LogisticRegression\n",
    "from sklearn.naive_bayes import MultinomialNB\n",
    "from sklearn.metrics import accuracy_score\n",
    "from sklearn.metrics import classification_report, confusion_matrix\n",
    "from sklearn.model_selection import train_test_split \n",
    "from sklearn.metrics import accuracy_score\n",
    "from nltk.corpus import stopwords\n",
    "import nltk\n",
    "nltk.download('stopwords')\n",
    "from nltk.corpus import stopwords\n",
    "stopwords.words('english')\n",
    "from IPython.display import display\n",
    "\n",
    "\n"
   ]
  },
  {
   "cell_type": "markdown",
   "id": "00ad9743",
   "metadata": {},
   "source": [
    "# Loading Data"
   ]
  },
  {
   "cell_type": "code",
   "execution_count": 2,
   "id": "55b3d23d",
   "metadata": {},
   "outputs": [],
   "source": [
    "train_df = pd.read_csv('train_data.txt', sep=':::', names=[\"title\", \"genre\", \"description\"], engine='python')\n",
    "test_df = pd.read_csv('test_data.txt', sep=':::', names=[\"title\", \"description\"], engine='python')\n"
   ]
  },
  {
   "cell_type": "markdown",
   "id": "1e95fe19",
   "metadata": {},
   "source": [
    "# Data Visualizaion"
   ]
  },
  {
   "cell_type": "code",
   "execution_count": 3,
   "id": "a7465b30",
   "metadata": {},
   "outputs": [
    {
     "data": {
      "text/html": [
       "<div>\n",
       "<style scoped>\n",
       "    .dataframe tbody tr th:only-of-type {\n",
       "        vertical-align: middle;\n",
       "    }\n",
       "\n",
       "    .dataframe tbody tr th {\n",
       "        vertical-align: top;\n",
       "    }\n",
       "\n",
       "    .dataframe thead th {\n",
       "        text-align: right;\n",
       "    }\n",
       "</style>\n",
       "<table border=\"1\" class=\"dataframe\">\n",
       "  <thead>\n",
       "    <tr style=\"text-align: right;\">\n",
       "      <th></th>\n",
       "      <th>title</th>\n",
       "      <th>genre</th>\n",
       "      <th>description</th>\n",
       "    </tr>\n",
       "  </thead>\n",
       "  <tbody>\n",
       "    <tr>\n",
       "      <th>1</th>\n",
       "      <td>Oscar et la dame rose (2009)</td>\n",
       "      <td>drama</td>\n",
       "      <td>Listening in to a conversation between his do...</td>\n",
       "    </tr>\n",
       "    <tr>\n",
       "      <th>2</th>\n",
       "      <td>Cupid (1997)</td>\n",
       "      <td>thriller</td>\n",
       "      <td>A brother and sister with a past incestuous r...</td>\n",
       "    </tr>\n",
       "    <tr>\n",
       "      <th>3</th>\n",
       "      <td>Young, Wild and Wonderful (1980)</td>\n",
       "      <td>adult</td>\n",
       "      <td>As the bus empties the students for their fie...</td>\n",
       "    </tr>\n",
       "    <tr>\n",
       "      <th>4</th>\n",
       "      <td>The Secret Sin (1915)</td>\n",
       "      <td>drama</td>\n",
       "      <td>To help their unemployed father make ends mee...</td>\n",
       "    </tr>\n",
       "    <tr>\n",
       "      <th>5</th>\n",
       "      <td>The Unrecovered (2007)</td>\n",
       "      <td>drama</td>\n",
       "      <td>The film's title refers not only to the un-re...</td>\n",
       "    </tr>\n",
       "  </tbody>\n",
       "</table>\n",
       "</div>"
      ],
      "text/plain": [
       "                                title       genre  \\\n",
       "1       Oscar et la dame rose (2009)       drama    \n",
       "2                       Cupid (1997)    thriller    \n",
       "3   Young, Wild and Wonderful (1980)       adult    \n",
       "4              The Secret Sin (1915)       drama    \n",
       "5             The Unrecovered (2007)       drama    \n",
       "\n",
       "                                         description  \n",
       "1   Listening in to a conversation between his do...  \n",
       "2   A brother and sister with a past incestuous r...  \n",
       "3   As the bus empties the students for their fie...  \n",
       "4   To help their unemployed father make ends mee...  \n",
       "5   The film's title refers not only to the un-re...  "
      ]
     },
     "execution_count": 3,
     "metadata": {},
     "output_type": "execute_result"
    }
   ],
   "source": [
    "train_df.head()"
   ]
  },
  {
   "cell_type": "code",
   "execution_count": 4,
   "id": "e3ee1e3a",
   "metadata": {},
   "outputs": [
    {
     "data": {
      "text/html": [
       "<div>\n",
       "<style scoped>\n",
       "    .dataframe tbody tr th:only-of-type {\n",
       "        vertical-align: middle;\n",
       "    }\n",
       "\n",
       "    .dataframe tbody tr th {\n",
       "        vertical-align: top;\n",
       "    }\n",
       "\n",
       "    .dataframe thead th {\n",
       "        text-align: right;\n",
       "    }\n",
       "</style>\n",
       "<table border=\"1\" class=\"dataframe\">\n",
       "  <thead>\n",
       "    <tr style=\"text-align: right;\">\n",
       "      <th></th>\n",
       "      <th>title</th>\n",
       "      <th>description</th>\n",
       "    </tr>\n",
       "  </thead>\n",
       "  <tbody>\n",
       "    <tr>\n",
       "      <th>1</th>\n",
       "      <td>Edgar's Lunch (1998)</td>\n",
       "      <td>L.R. Brane loves his life - his car, his apar...</td>\n",
       "    </tr>\n",
       "    <tr>\n",
       "      <th>2</th>\n",
       "      <td>La guerra de papá (1977)</td>\n",
       "      <td>Spain, March 1964: Quico is a very naughty ch...</td>\n",
       "    </tr>\n",
       "    <tr>\n",
       "      <th>3</th>\n",
       "      <td>Off the Beaten Track (2010)</td>\n",
       "      <td>One year in the life of Albin and his family ...</td>\n",
       "    </tr>\n",
       "    <tr>\n",
       "      <th>4</th>\n",
       "      <td>Meu Amigo Hindu (2015)</td>\n",
       "      <td>His father has died, he hasn't spoken with hi...</td>\n",
       "    </tr>\n",
       "    <tr>\n",
       "      <th>5</th>\n",
       "      <td>Er nu zhai (1955)</td>\n",
       "      <td>Before he was known internationally as a mart...</td>\n",
       "    </tr>\n",
       "  </tbody>\n",
       "</table>\n",
       "</div>"
      ],
      "text/plain": [
       "                           title  \\\n",
       "1          Edgar's Lunch (1998)    \n",
       "2      La guerra de papá (1977)    \n",
       "3   Off the Beaten Track (2010)    \n",
       "4        Meu Amigo Hindu (2015)    \n",
       "5             Er nu zhai (1955)    \n",
       "\n",
       "                                         description  \n",
       "1   L.R. Brane loves his life - his car, his apar...  \n",
       "2   Spain, March 1964: Quico is a very naughty ch...  \n",
       "3   One year in the life of Albin and his family ...  \n",
       "4   His father has died, he hasn't spoken with hi...  \n",
       "5   Before he was known internationally as a mart...  "
      ]
     },
     "execution_count": 4,
     "metadata": {},
     "output_type": "execute_result"
    }
   ],
   "source": [
    "test_df.head()"
   ]
  },
  {
   "cell_type": "code",
   "execution_count": 5,
   "id": "217197a7",
   "metadata": {},
   "outputs": [
    {
     "data": {
      "image/png": "[encoded data removed]",
      "text/plain": [
       "<Figure size 1000x700 with 1 Axes>"
      ]
     },
     "metadata": {},
     "output_type": "display_data"
    }
   ],
   "source": [
    "plt.figure(figsize=(10,7))\n",
    "counts = train_df.genre.value_counts()\n",
    "sns.barplot(x=counts.index, y=counts)\n",
    "plt.xlabel('Types of Genre')\n",
    "plt.ylabel('No of Count')\n",
    "plt.xticks(rotation=90);"
   ]
  },
  {
   "cell_type": "code",
   "execution_count": 6,
   "id": "9fa4e0aa",
   "metadata": {},
   "outputs": [
    {
     "data": {
      "text/html": [
       "<div>\n",
       "<style scoped>\n",
       "    .dataframe tbody tr th:only-of-type {\n",
       "        vertical-align: middle;\n",
       "    }\n",
       "\n",
       "    .dataframe tbody tr th {\n",
       "        vertical-align: top;\n",
       "    }\n",
       "\n",
       "    .dataframe thead th {\n",
       "        text-align: right;\n",
       "    }\n",
       "</style>\n",
       "<table border=\"1\" class=\"dataframe\">\n",
       "  <thead>\n",
       "    <tr style=\"text-align: right;\">\n",
       "      <th></th>\n",
       "      <th>title</th>\n",
       "      <th>genre</th>\n",
       "      <th>description</th>\n",
       "    </tr>\n",
       "  </thead>\n",
       "  <tbody>\n",
       "    <tr>\n",
       "      <th>count</th>\n",
       "      <td>54214</td>\n",
       "      <td>54214</td>\n",
       "      <td>54214</td>\n",
       "    </tr>\n",
       "    <tr>\n",
       "      <th>unique</th>\n",
       "      <td>54214</td>\n",
       "      <td>27</td>\n",
       "      <td>54086</td>\n",
       "    </tr>\n",
       "    <tr>\n",
       "      <th>top</th>\n",
       "      <td>Oscar et la dame rose (2009)</td>\n",
       "      <td>drama</td>\n",
       "      <td>Grammy - music award of the American academy ...</td>\n",
       "    </tr>\n",
       "    <tr>\n",
       "      <th>freq</th>\n",
       "      <td>1</td>\n",
       "      <td>13613</td>\n",
       "      <td>12</td>\n",
       "    </tr>\n",
       "  </tbody>\n",
       "</table>\n",
       "</div>"
      ],
      "text/plain": [
       "                                 title    genre  \\\n",
       "count                            54214    54214   \n",
       "unique                           54214       27   \n",
       "top      Oscar et la dame rose (2009)    drama    \n",
       "freq                                 1    13613   \n",
       "\n",
       "                                              description  \n",
       "count                                               54214  \n",
       "unique                                              54086  \n",
       "top      Grammy - music award of the American academy ...  \n",
       "freq                                                   12  "
      ]
     },
     "execution_count": 6,
     "metadata": {},
     "output_type": "execute_result"
    }
   ],
   "source": [
    "train_df.describe()"
   ]
  },
  {
   "cell_type": "code",
   "execution_count": 7,
   "id": "5ee40e1f",
   "metadata": {},
   "outputs": [
    {
     "data": {
      "text/plain": [
       "genre\n",
       " drama           13613\n",
       " documentary     13096\n",
       " comedy           7447\n",
       " short            5073\n",
       " horror           2204\n",
       " thriller         1591\n",
       " action           1315\n",
       " western          1032\n",
       " reality-tv        884\n",
       " family            784\n",
       " adventure         775\n",
       " music             731\n",
       " romance           672\n",
       " sci-fi            647\n",
       " adult             590\n",
       " crime             505\n",
       " animation         498\n",
       " sport             432\n",
       " talk-show         391\n",
       " fantasy           323\n",
       " mystery           319\n",
       " musical           277\n",
       " biography         265\n",
       " history           243\n",
       " game-show         194\n",
       " news              181\n",
       " war               132\n",
       "Name: count, dtype: int64"
      ]
     },
     "execution_count": 7,
     "metadata": {},
     "output_type": "execute_result"
    }
   ],
   "source": [
    "train_df.genre.value_counts()"
   ]
  },
  {
   "cell_type": "markdown",
   "id": "85e5926a",
   "metadata": {},
   "source": [
    "# Data Cleaning & Preprocessing"
   ]
  },
  {
   "cell_type": "code",
   "execution_count": 8,
   "id": "cd5dd2d5",
   "metadata": {},
   "outputs": [
    {
     "name": "stdout",
     "output_type": "stream",
     "text": [
      "<class 'pandas.core.frame.DataFrame'>\n",
      "Index: 54214 entries, 1 to 54214\n",
      "Data columns (total 3 columns):\n",
      " #   Column       Non-Null Count  Dtype \n",
      "---  ------       --------------  ----- \n",
      " 0   title        54214 non-null  object\n",
      " 1   genre        54214 non-null  object\n",
      " 2   description  54214 non-null  object\n",
      "dtypes: object(3)\n",
      "memory usage: 1.7+ MB\n"
     ]
    }
   ],
   "source": [
    "train_df.info()"
   ]
  },
  {
   "cell_type": "code",
   "execution_count": 9,
   "id": "348a9776",
   "metadata": {},
   "outputs": [
    {
     "data": {
      "text/plain": [
       "title          0\n",
       "genre          0\n",
       "description    0\n",
       "dtype: int64"
      ]
     },
     "execution_count": 9,
     "metadata": {},
     "output_type": "execute_result"
    }
   ],
   "source": [
    "train_df.isnull().sum()"
   ]
  },
  {
   "cell_type": "code",
   "execution_count": 10,
   "id": "a18df0b8",
   "metadata": {},
   "outputs": [
    {
     "data": {
      "text/plain": [
       "0"
      ]
     },
     "execution_count": 10,
     "metadata": {},
     "output_type": "execute_result"
    }
   ],
   "source": [
    "train_df.duplicated().sum()"
   ]
  },
  {
   "cell_type": "code",
   "execution_count": 11,
   "id": "10f9c591",
   "metadata": {},
   "outputs": [
    {
     "data": {
      "text/plain": [
       "(54214, 3)"
      ]
     },
     "execution_count": 11,
     "metadata": {},
     "output_type": "execute_result"
    }
   ],
   "source": [
    "train_df.shape"
   ]
  },
  {
   "cell_type": "code",
   "execution_count": 12,
   "id": "b54b8b81",
   "metadata": {},
   "outputs": [
    {
     "data": {
      "text/plain": [
       "(54214, 3)"
      ]
     },
     "execution_count": 12,
     "metadata": {},
     "output_type": "execute_result"
    }
   ],
   "source": [
    "train_df = train_df.drop_duplicates()\n",
    "train_df.shape"
   ]
  },
  {
   "cell_type": "markdown",
   "id": "fbf4b808",
   "metadata": {},
   "source": [
    "In this dataset not null values and duplicate values are preset."
   ]
  },
  {
   "cell_type": "markdown",
   "id": "d353fe17",
   "metadata": {},
   "source": [
    "# Text Cleaning"
   ]
  },
  {
   "cell_type": "code",
   "execution_count": 13,
   "id": "fe9a56bd",
   "metadata": {},
   "outputs": [],
   "source": [
    "# nltk.download('stopwords')\n",
    "# nltk.download('wordnet')\n",
    "# nltk.download()"
   ]
  },
  {
   "cell_type": "code",
   "execution_count": 14,
   "id": "df8e5630",
   "metadata": {},
   "outputs": [],
   "source": [
    "stop_words = set(stopwords.words('english')) # stop words\n",
    "def clean_data(text):\n",
    "    text = text.lower()\n",
    "    text = re.sub(r'@\\S+','',text)                       # [1] remove mentions\n",
    "    text = re.sub(r'http\\S+', '', text)                  # [2] remove urls\n",
    "    text = re.sub(r'[\\w\\.-]+@[\\w\\.-]+',\"\",text)          # [3] remove emails\n",
    "    text = re.sub(r\"[^a-zA-Z+']\", ' ', text)             # [4] keep only english chars / remove numbers\n",
    "    text = re.sub(r'\\s+[a-zA-Z]\\s+', ' ', text+' ')      # [5] remove single chars\n",
    "    text = re.sub(r'pic.\\S+', '',text)                   # [6]\n",
    "    text = re.sub(r'#', \"\", text)                        # [7] remove hashtags\n",
    "    text = re.sub(r\"_\", \"  \", text)                      # [8] remove hashtags\n",
    "    text = re.sub('\\n',\" . \",text)                       # [9] remove new lines\n",
    "    text = re.sub('\\[[^]]*\\]','',text)                   # [10] remove square prackets\n",
    "    text = \"\".join([char for char in text if char not in string.punctuation]) # [11] remove punctuations\n",
    "    text= re.sub(\"\\s[\\s]+\", \" \",text).strip()            # [12] remove repeated/leading/trailing spaces\n",
    "    tokens = word_tokenize(text)                         # [13] Tokenize\n",
    "    text = \" \".join([word for word in tokens if word not in stop_words and len(word) > 2]) # [14] remove stop words\n",
    "    \n",
    "    return text"
   ]
  },
  {
   "cell_type": "markdown",
   "id": "73146f0a",
   "metadata": {},
   "source": [
    "# Some Data Statistics"
   ]
  },
  {
   "cell_type": "code",
   "execution_count": 15,
   "id": "c9d64bf7",
   "metadata": {},
   "outputs": [
    {
     "data": {
      "text/plain": [
       "1        listening conversation doctor parents year old...\n",
       "2        brother sister past incestuous relationship cu...\n",
       "3        bus empties students field trip museum natural...\n",
       "4        help unemployed father make ends meet edith tw...\n",
       "5        films title refers recovered bodies ground zer...\n",
       "                               ...                        \n",
       "54210    short lived nbc live sitcom centered bonino wo...\n",
       "54211    next generation exploitation sisters kapa bay ...\n",
       "54212    bestaan echt stand comedy growing facing fears...\n",
       "54213    walter vivian live country difficult time keep...\n",
       "54214    labor day weekend intense hurricane ever make ...\n",
       "Name: description, Length: 54214, dtype: object"
      ]
     },
     "execution_count": 15,
     "metadata": {},
     "output_type": "execute_result"
    }
   ],
   "source": [
    "train_df['description'].apply(clean_data)"
   ]
  },
  {
   "cell_type": "code",
   "execution_count": 16,
   "id": "9af6f016",
   "metadata": {},
   "outputs": [],
   "source": [
    "train_df['description_cleaned'] = train_df['description'].apply(clean_data)\n",
    "test_df['description_cleaned'] = test_df['description'].apply(clean_data)"
   ]
  },
  {
   "cell_type": "code",
   "execution_count": 17,
   "id": "3159fd48",
   "metadata": {},
   "outputs": [],
   "source": [
    "st = PorterStemmer()\n",
    "train_df['description_cleaned'] = train_df['description_cleaned'].apply(\n",
    "    lambda x: ' '.join([st.stem(word) for word in x.split()]))\n",
    "\n",
    "test_df['description_cleaned'] = test_df['description_cleaned'].apply(\n",
    "    lambda x: ' '.join([st.stem(word) for word in x.split()]))\n"
   ]
  },
  {
   "cell_type": "code",
   "execution_count": 18,
   "id": "e505843d",
   "metadata": {},
   "outputs": [
    {
     "data": {
      "text/html": [
       "<div>\n",
       "<style scoped>\n",
       "    .dataframe tbody tr th:only-of-type {\n",
       "        vertical-align: middle;\n",
       "    }\n",
       "\n",
       "    .dataframe tbody tr th {\n",
       "        vertical-align: top;\n",
       "    }\n",
       "\n",
       "    .dataframe thead th {\n",
       "        text-align: right;\n",
       "    }\n",
       "</style>\n",
       "<table border=\"1\" class=\"dataframe\">\n",
       "  <thead>\n",
       "    <tr style=\"text-align: right;\">\n",
       "      <th></th>\n",
       "      <th>title</th>\n",
       "      <th>genre</th>\n",
       "      <th>description</th>\n",
       "      <th>description_cleaned</th>\n",
       "      <th>length</th>\n",
       "      <th>length_cleaned</th>\n",
       "    </tr>\n",
       "  </thead>\n",
       "  <tbody>\n",
       "    <tr>\n",
       "      <th>1</th>\n",
       "      <td>Oscar et la dame rose (2009)</td>\n",
       "      <td>drama</td>\n",
       "      <td>Listening in to a conversation between his do...</td>\n",
       "      <td>listen convers doctor parent year old oscar le...</td>\n",
       "      <td>546</td>\n",
       "      <td>339</td>\n",
       "    </tr>\n",
       "    <tr>\n",
       "      <th>2</th>\n",
       "      <td>Cupid (1997)</td>\n",
       "      <td>thriller</td>\n",
       "      <td>A brother and sister with a past incestuous r...</td>\n",
       "      <td>brother sister past incestu relationship curre...</td>\n",
       "      <td>184</td>\n",
       "      <td>111</td>\n",
       "    </tr>\n",
       "    <tr>\n",
       "      <th>3</th>\n",
       "      <td>Young, Wild and Wonderful (1980)</td>\n",
       "      <td>adult</td>\n",
       "      <td>As the bus empties the students for their fie...</td>\n",
       "      <td>bu empti student field trip museum natur histo...</td>\n",
       "      <td>650</td>\n",
       "      <td>344</td>\n",
       "    </tr>\n",
       "    <tr>\n",
       "      <th>4</th>\n",
       "      <td>The Secret Sin (1915)</td>\n",
       "      <td>drama</td>\n",
       "      <td>To help their unemployed father make ends mee...</td>\n",
       "      <td>help unemploy father make end meet edith twin ...</td>\n",
       "      <td>1082</td>\n",
       "      <td>678</td>\n",
       "    </tr>\n",
       "    <tr>\n",
       "      <th>5</th>\n",
       "      <td>The Unrecovered (2007)</td>\n",
       "      <td>drama</td>\n",
       "      <td>The film's title refers not only to the un-re...</td>\n",
       "      <td>film titl refer recov bodi ground zero also st...</td>\n",
       "      <td>625</td>\n",
       "      <td>347</td>\n",
       "    </tr>\n",
       "  </tbody>\n",
       "</table>\n",
       "</div>"
      ],
      "text/plain": [
       "                                title       genre  \\\n",
       "1       Oscar et la dame rose (2009)       drama    \n",
       "2                       Cupid (1997)    thriller    \n",
       "3   Young, Wild and Wonderful (1980)       adult    \n",
       "4              The Secret Sin (1915)       drama    \n",
       "5             The Unrecovered (2007)       drama    \n",
       "\n",
       "                                         description  \\\n",
       "1   Listening in to a conversation between his do...   \n",
       "2   A brother and sister with a past incestuous r...   \n",
       "3   As the bus empties the students for their fie...   \n",
       "4   To help their unemployed father make ends mee...   \n",
       "5   The film's title refers not only to the un-re...   \n",
       "\n",
       "                                 description_cleaned  length  length_cleaned  \n",
       "1  listen convers doctor parent year old oscar le...     546             339  \n",
       "2  brother sister past incestu relationship curre...     184             111  \n",
       "3  bu empti student field trip museum natur histo...     650             344  \n",
       "4  help unemploy father make end meet edith twin ...    1082             678  \n",
       "5  film titl refer recov bodi ground zero also st...     625             347  "
      ]
     },
     "execution_count": 18,
     "metadata": {},
     "output_type": "execute_result"
    }
   ],
   "source": [
    "train_df['length']=train_df['description'].apply(len)\n",
    "train_df['length_cleaned']=train_df['description_cleaned'].apply(len)\n",
    "train_df.head()"
   ]
  },
  {
   "cell_type": "code",
   "execution_count": 19,
   "id": "557d66ac",
   "metadata": {},
   "outputs": [
    {
     "name": "stdout",
     "output_type": "stream",
     "text": [
      "Average Length of Text Before Cleaning:  600.4524292618142\n",
      "Average Length of Text After Cleaning:  360.2900542295348\n"
     ]
    }
   ],
   "source": [
    "print(\"Average Length of Text Before Cleaning: \", train_df['length'].mean())\n",
    "print(\"Average Length of Text After Cleaning: \", train_df['length_cleaned'].mean())"
   ]
  },
  {
   "cell_type": "code",
   "execution_count": 20,
   "id": "1ddcec76",
   "metadata": {},
   "outputs": [
    {
     "data": {
      "image/png": "[encoded data removed]",
      "text/plain": [
       "<Figure size 1500x700 with 1 Axes>"
      ]
     },
     "metadata": {},
     "output_type": "display_data"
    }
   ],
   "source": [
    "plt.figure(figsize=(15, 7))\n",
    "\n",
    "sns.histplot(data=train_df, x='length', bins=20, kde=True, color='red')\n",
    "\n",
    "plt.xlabel('Length', fontsize=14, fontweight='bold')\n",
    "plt.ylabel('Frequency', fontsize=14, fontweight='bold')\n",
    "plt.title('Distribution of Lengths', fontsize=16, fontweight='bold')\n",
    "\n",
    "plt.show()"
   ]
  },
  {
   "cell_type": "markdown",
   "id": "fcd755d8",
   "metadata": {},
   "source": [
    "# Get Top bigrams"
   ]
  },
  {
   "cell_type": "code",
   "execution_count": 21,
   "id": "da91351a",
   "metadata": {},
   "outputs": [],
   "source": [
    "def get_top_n_bigram(corpus, n=None):\n",
    "    vec = CV(ngram_range=(2, 2)).fit(corpus)\n",
    "    bag_of_words = vec.transform(corpus)\n",
    "    sum_words = bag_of_words.sum(axis=0) \n",
    "    words_freq = [(word, sum_words[0, idx]) for word, idx in vec.vocabulary_.items()]\n",
    "    words_freq =sorted(words_freq, key = lambda x: x[1], reverse=True)\n",
    "    return words_freq[:n]"
   ]
  },
  {
   "cell_type": "code",
   "execution_count": 22,
   "id": "a61674da",
   "metadata": {},
   "outputs": [
    {
     "data": {
      "image/png": "[encoded data removed]",
      "text/plain": [
       "<Figure size 1000x600 with 1 Axes>"
      ]
     },
     "metadata": {},
     "output_type": "display_data"
    }
   ],
   "source": [
    "common_words = get_top_n_bigram(train_df['description_cleaned'], 10)\n",
    "common_words_df = pd.DataFrame(common_words,columns=['word','freq'])\n",
    "plt.figure(figsize=(10, 6))\n",
    "ax = sns.barplot(x='freq', y='word', data=common_words_df,facecolor='blue',linewidth=3,edgecolor=sns.color_palette(\"ch:start=3, rot=.1\",10))\n",
    "\n",
    "plt.title(\"Top 10 bigrams\",font='Serif')\n",
    "plt.xlabel(\"Frequency\", fontsize=10)\n",
    "plt.yticks(fontsize=13)\n",
    "plt.xticks(rotation=45, fontsize=10)\n",
    "plt.ylabel(\"\");"
   ]
  },
  {
   "cell_type": "markdown",
   "id": "64839550",
   "metadata": {},
   "source": [
    "# Label Encodeing of the Target variable"
   ]
  },
  {
   "cell_type": "code",
   "execution_count": 23,
   "id": "92299742",
   "metadata": {},
   "outputs": [
    {
     "data": {
      "text/html": [
       "<div>\n",
       "<style scoped>\n",
       "    .dataframe tbody tr th:only-of-type {\n",
       "        vertical-align: middle;\n",
       "    }\n",
       "\n",
       "    .dataframe tbody tr th {\n",
       "        vertical-align: top;\n",
       "    }\n",
       "\n",
       "    .dataframe thead th {\n",
       "        text-align: right;\n",
       "    }\n",
       "</style>\n",
       "<table border=\"1\" class=\"dataframe\">\n",
       "  <thead>\n",
       "    <tr style=\"text-align: right;\">\n",
       "      <th></th>\n",
       "      <th>description_cleaned</th>\n",
       "      <th>genre</th>\n",
       "    </tr>\n",
       "  </thead>\n",
       "  <tbody>\n",
       "    <tr>\n",
       "      <th>1</th>\n",
       "      <td>listen convers doctor parent year old oscar le...</td>\n",
       "      <td>8</td>\n",
       "    </tr>\n",
       "    <tr>\n",
       "      <th>2</th>\n",
       "      <td>brother sister past incestu relationship curre...</td>\n",
       "      <td>24</td>\n",
       "    </tr>\n",
       "    <tr>\n",
       "      <th>3</th>\n",
       "      <td>bu empti student field trip museum natur histo...</td>\n",
       "      <td>1</td>\n",
       "    </tr>\n",
       "    <tr>\n",
       "      <th>4</th>\n",
       "      <td>help unemploy father make end meet edith twin ...</td>\n",
       "      <td>8</td>\n",
       "    </tr>\n",
       "    <tr>\n",
       "      <th>5</th>\n",
       "      <td>film titl refer recov bodi ground zero also st...</td>\n",
       "      <td>8</td>\n",
       "    </tr>\n",
       "    <tr>\n",
       "      <th>6</th>\n",
       "      <td>qualiti control consist seri singl take shot f...</td>\n",
       "      <td>7</td>\n",
       "    </tr>\n",
       "    <tr>\n",
       "      <th>7</th>\n",
       "      <td>tough econom time max joey run idea discov sen...</td>\n",
       "      <td>5</td>\n",
       "    </tr>\n",
       "    <tr>\n",
       "      <th>8</th>\n",
       "      <td>ron petri keanu reev troubl teen whose life ha...</td>\n",
       "      <td>6</td>\n",
       "    </tr>\n",
       "    <tr>\n",
       "      <th>9</th>\n",
       "      <td>sudden calamit event caus great loss life dama...</td>\n",
       "      <td>18</td>\n",
       "    </tr>\n",
       "    <tr>\n",
       "      <th>10</th>\n",
       "      <td>four high school student embark terrifi journe...</td>\n",
       "      <td>13</td>\n",
       "    </tr>\n",
       "  </tbody>\n",
       "</table>\n",
       "</div>"
      ],
      "text/plain": [
       "                                  description_cleaned  genre\n",
       "1   listen convers doctor parent year old oscar le...      8\n",
       "2   brother sister past incestu relationship curre...     24\n",
       "3   bu empti student field trip museum natur histo...      1\n",
       "4   help unemploy father make end meet edith twin ...      8\n",
       "5   film titl refer recov bodi ground zero also st...      8\n",
       "6   qualiti control consist seri singl take shot f...      7\n",
       "7   tough econom time max joey run idea discov sen...      5\n",
       "8   ron petri keanu reev troubl teen whose life ha...      6\n",
       "9   sudden calamit event caus great loss life dama...     18\n",
       "10  four high school student embark terrifi journe...     13"
      ]
     },
     "execution_count": 23,
     "metadata": {},
     "output_type": "execute_result"
    }
   ],
   "source": [
    "le = LabelEncoder()\n",
    "train_df['genre'] = le.fit_transform(train_df['genre'].values)\n",
    "\n",
    "train_df = train_df.loc[:,['description_cleaned', 'genre']]\n",
    "test_df = test_df.loc[:,['description_cleaned', 'title']]\n",
    "train_df.head(10)"
   ]
  },
  {
   "cell_type": "markdown",
   "id": "c913277b",
   "metadata": {},
   "source": [
    "# Train Test Split"
   ]
  },
  {
   "cell_type": "code",
   "execution_count": 24,
   "id": "0a358c64",
   "metadata": {},
   "outputs": [],
   "source": [
    "train_set , val_set , train_label , val_label = train_test_split(train_df['description_cleaned'] , train_df['genre'] , test_size=0.2 , shuffle=True , random_state = 42)\n"
   ]
  },
  {
   "cell_type": "markdown",
   "id": "4d820aa8",
   "metadata": {},
   "source": [
    "# Feature Extraction"
   ]
  },
  {
   "cell_type": "code",
   "execution_count": 25,
   "id": "beb5b40b",
   "metadata": {},
   "outputs": [],
   "source": [
    "# using TF-IDF\n",
    "vectorize = TfidfVectorizer(stop_words='english', max_features=100000)\n",
    "train_set_tfidf = vectorize.fit_transform(train_set)\n",
    "val_set_tfidf = vectorize.transform(val_set)"
   ]
  },
  {
   "cell_type": "code",
   "execution_count": 26,
   "id": "cd77204c",
   "metadata": {},
   "outputs": [],
   "source": [
    "# using BOW\n",
    "vectorize = CV()\n",
    "train_set_tfidf = vectorize.fit_transform(train_set)\n",
    "val_set_tfidf = vectorize.transform(val_set)"
   ]
  },
  {
   "cell_type": "markdown",
   "id": "c842621a",
   "metadata": {},
   "source": [
    "TF-IDF gets more accurate results in LR"
   ]
  },
  {
   "cell_type": "markdown",
   "id": "d2f33c85",
   "metadata": {},
   "source": [
    "# [1] Logistic Regression Model (LR)"
   ]
  },
  {
   "cell_type": "code",
   "execution_count": 31,
   "id": "f6dc3b3c",
   "metadata": {},
   "outputs": [
    {
     "name": "stdout",
     "output_type": "stream",
     "text": [
      "              precision    recall  f1-score   support\n",
      "\n",
      "           0       0.39      0.30      0.34       263\n",
      "           1       0.68      0.46      0.55       112\n",
      "           2       0.31      0.23      0.26       139\n",
      "           3       0.38      0.22      0.28       104\n",
      "           4       0.00      0.00      0.00        61\n",
      "           5       0.51      0.56      0.53      1443\n",
      "           6       0.26      0.10      0.15       107\n",
      "           7       0.69      0.76      0.73      2659\n",
      "           8       0.55      0.67      0.61      2697\n",
      "           9       0.28      0.19      0.23       150\n",
      "          10       0.23      0.07      0.10        74\n",
      "          11       0.80      0.50      0.62        40\n",
      "          12       0.07      0.02      0.03        45\n",
      "          13       0.63      0.61      0.62       431\n",
      "          14       0.53      0.53      0.53       144\n",
      "          15       0.22      0.08      0.12        50\n",
      "          16       0.11      0.04      0.05        56\n",
      "          17       0.18      0.06      0.09        34\n",
      "          18       0.49      0.35      0.41       192\n",
      "          19       0.20      0.09      0.12       151\n",
      "          20       0.45      0.27      0.34       143\n",
      "          21       0.38      0.38      0.38      1045\n",
      "          22       0.61      0.37      0.46        93\n",
      "          23       0.53      0.23      0.32        81\n",
      "          24       0.29      0.23      0.26       309\n",
      "          25       0.40      0.20      0.27        20\n",
      "          26       0.88      0.78      0.82       200\n",
      "\n",
      "    accuracy                           0.55     10843\n",
      "   macro avg       0.41      0.31      0.34     10843\n",
      "weighted avg       0.53      0.55      0.54     10843\n",
      "\n",
      "Logistic Regression accuracy is: 55.46%\n"
     ]
    },
    {
     "name": "stderr",
     "output_type": "stream",
     "text": [
      "C:\\Users\\user\\anaconda3\\Lib\\site-packages\\sklearn\\linear_model\\_logistic.py:460: ConvergenceWarning: lbfgs failed to converge (status=1):\n",
      "STOP: TOTAL NO. of ITERATIONS REACHED LIMIT.\n",
      "\n",
      "Increase the number of iterations (max_iter) or scale the data as shown in:\n",
      "    https://scikit-learn.org/stable/modules/preprocessing.html\n",
      "Please also refer to the documentation for alternative solver options:\n",
      "    https://scikit-learn.org/stable/modules/linear_model.html#logistic-regression\n",
      "  n_iter_i = _check_optimize_result(\n"
     ]
    }
   ],
   "source": [
    "lr_model = LogisticRegression()\n",
    "lr_model.fit(train_set_tfidf, train_label)\n",
    "predict_lr = lr_model.predict(val_set_tfidf)\n",
    "print(classification_report(val_label, predict_lr))\n",
    "lr_accuracy = accuracy_score(predict_lr,val_label)\n",
    "print('Logistic Regression accuracy is: {:.2f}%'.format(lr_accuracy*100))"
   ]
  },
  {
   "cell_type": "markdown",
   "id": "0e8ec3d9",
   "metadata": {},
   "source": [
    "# [2] Multinomial Naive Bayes Model (MultinomialNB)"
   ]
  },
  {
   "cell_type": "code",
   "execution_count": 32,
   "id": "433d028e",
   "metadata": {},
   "outputs": [
    {
     "name": "stdout",
     "output_type": "stream",
     "text": [
      "              precision    recall  f1-score   support\n",
      "\n",
      "           0       0.72      0.08      0.14       263\n",
      "           1       0.60      0.05      0.10       112\n",
      "           2       0.33      0.06      0.10       139\n",
      "           3       0.00      0.00      0.00       104\n",
      "           4       0.00      0.00      0.00        61\n",
      "           5       0.51      0.50      0.50      1443\n",
      "           6       0.00      0.00      0.00       107\n",
      "           7       0.57      0.88      0.69      2659\n",
      "           8       0.47      0.80      0.59      2697\n",
      "           9       0.50      0.01      0.01       150\n",
      "          10       0.00      0.00      0.00        74\n",
      "          11       1.00      0.07      0.14        40\n",
      "          12       0.00      0.00      0.00        45\n",
      "          13       0.74      0.36      0.49       431\n",
      "          14       0.75      0.12      0.21       144\n",
      "          15       0.00      0.00      0.00        50\n",
      "          16       0.00      0.00      0.00        56\n",
      "          17       0.00      0.00      0.00        34\n",
      "          18       1.00      0.01      0.02       192\n",
      "          19       0.00      0.00      0.00       151\n",
      "          20       0.75      0.02      0.04       143\n",
      "          21       0.57      0.14      0.23      1045\n",
      "          22       0.75      0.10      0.17        93\n",
      "          23       0.00      0.00      0.00        81\n",
      "          24       0.42      0.03      0.05       309\n",
      "          25       0.00      0.00      0.00        20\n",
      "          26       0.95      0.63      0.76       200\n",
      "\n",
      "    accuracy                           0.53     10843\n",
      "   macro avg       0.39      0.14      0.16     10843\n",
      "weighted avg       0.52      0.53      0.45     10843\n",
      "\n",
      "Naive Bayes model accuracy is: 52.86%\n"
     ]
    },
    {
     "name": "stderr",
     "output_type": "stream",
     "text": [
      "C:\\Users\\user\\anaconda3\\Lib\\site-packages\\sklearn\\metrics\\_classification.py:1469: UndefinedMetricWarning: Precision and F-score are ill-defined and being set to 0.0 in labels with no predicted samples. Use `zero_division` parameter to control this behavior.\n",
      "  _warn_prf(average, modifier, msg_start, len(result))\n",
      "C:\\Users\\user\\anaconda3\\Lib\\site-packages\\sklearn\\metrics\\_classification.py:1469: UndefinedMetricWarning: Precision and F-score are ill-defined and being set to 0.0 in labels with no predicted samples. Use `zero_division` parameter to control this behavior.\n",
      "  _warn_prf(average, modifier, msg_start, len(result))\n",
      "C:\\Users\\user\\anaconda3\\Lib\\site-packages\\sklearn\\metrics\\_classification.py:1469: UndefinedMetricWarning: Precision and F-score are ill-defined and being set to 0.0 in labels with no predicted samples. Use `zero_division` parameter to control this behavior.\n",
      "  _warn_prf(average, modifier, msg_start, len(result))\n"
     ]
    }
   ],
   "source": [
    "# Train a Naive Bayes classifier\n",
    "NB_model = MultinomialNB()\n",
    "NB_model.fit(train_set_tfidf, train_label)\n",
    "y_pred_naive = NB_model.predict(val_set_tfidf)\n",
    "print(classification_report(val_label, y_pred_naive))\n",
    "naive_accuracy = accuracy_score(y_pred_naive,val_label)\n",
    "print('Naive Bayes model accuracy is: {:.2f}%'.format(naive_accuracy*100))"
   ]
  },
  {
   "cell_type": "markdown",
   "id": "34addeb1",
   "metadata": {},
   "source": [
    "# [3] Support Vector Machine Model (SVC)"
   ]
  },
  {
   "cell_type": "code",
   "execution_count": 41,
   "id": "0e41c7b6",
   "metadata": {},
   "outputs": [
    {
     "name": "stderr",
     "output_type": "stream",
     "text": [
      "C:\\Users\\user\\anaconda3\\Lib\\site-packages\\sklearn\\svm\\_classes.py:32: FutureWarning: The default value of `dual` will change from `True` to `'auto'` in 1.5. Set the value of `dual` explicitly to suppress the warning.\n",
      "  warnings.warn(\n"
     ]
    },
    {
     "name": "stdout",
     "output_type": "stream",
     "text": [
      "              precision    recall  f1-score   support\n",
      "\n",
      "           0       0.36      0.31      0.33       263\n",
      "           1       0.47      0.38      0.42       112\n",
      "           2       0.22      0.19      0.20       139\n",
      "           3       0.27      0.16      0.20       104\n",
      "           4       0.03      0.02      0.02        61\n",
      "           5       0.48      0.51      0.49      1443\n",
      "           6       0.14      0.09      0.11       107\n",
      "           7       0.68      0.68      0.68      2659\n",
      "           8       0.52      0.58      0.55      2697\n",
      "           9       0.21      0.18      0.20       150\n",
      "          10       0.19      0.11      0.14        74\n",
      "          11       0.69      0.55      0.61        40\n",
      "          12       0.06      0.02      0.03        45\n",
      "          13       0.56      0.56      0.56       431\n",
      "          14       0.51      0.54      0.53       144\n",
      "          15       0.11      0.10      0.11        50\n",
      "          16       0.09      0.07      0.08        56\n",
      "          17       0.06      0.03      0.04        34\n",
      "          18       0.37      0.30      0.33       192\n",
      "          19       0.13      0.08      0.10       151\n",
      "          20       0.38      0.28      0.32       143\n",
      "          21       0.33      0.35      0.34      1045\n",
      "          22       0.50      0.32      0.39        93\n",
      "          23       0.30      0.22      0.26        81\n",
      "          24       0.19      0.19      0.19       309\n",
      "          25       0.12      0.10      0.11        20\n",
      "          26       0.78      0.75      0.77       200\n",
      "\n",
      "    accuracy                           0.50     10843\n",
      "   macro avg       0.32      0.28      0.30     10843\n",
      "weighted avg       0.49      0.50      0.49     10843\n",
      "\n",
      "SVC model accuracy is: 49.97%\n"
     ]
    },
    {
     "name": "stderr",
     "output_type": "stream",
     "text": [
      "C:\\Users\\user\\anaconda3\\Lib\\site-packages\\sklearn\\svm\\_base.py:1242: ConvergenceWarning: Liblinear failed to converge, increase the number of iterations.\n",
      "  warnings.warn(\n"
     ]
    }
   ],
   "source": [
    "# Train a SVC classifier\n",
    "from sklearn.svm import LinearSVC\n",
    "svm_model = LinearSVC()\n",
    "svm_model.fit(train_set_tfidf, train_label)\n",
    "predict = svm_model.predict(val_set_tfidf)\n",
    "\n",
    "print(classification_report(val_label, predict))\n",
    "svm_accuracy = accuracy_score(predict,val_label)\n",
    "print('SVC model accuracy is: {:.2f}%'.format(svm_accuracy*100))"
   ]
  },
  {
   "cell_type": "code",
   "execution_count": null,
   "id": "d971d54f",
   "metadata": {},
   "outputs": [],
   "source": []
  }
 ],
 "metadata": {
  "kernelspec": {
   "display_name": "Python 3 (ipykernel)",
   "language": "python",
   "name": "python3"
  },
  "language_info": {
   "codemirror_mode": {
    "name": "ipython",
    "version": 3
   },
   "file_extension": ".py",
   "mimetype": "text/x-python",
   "name": "python",
   "nbconvert_exporter": "python",
   "pygments_lexer": "ipython3",
   "version": "3.11.5"
  }
 },
 "nbformat": 4,
 "nbformat_minor": 5
}
